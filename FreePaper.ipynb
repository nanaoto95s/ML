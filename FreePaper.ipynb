{
 "cells": [
  {
   "cell_type": "code",
   "execution_count": 8,
   "metadata": {},
   "outputs": [
    {
     "name": "stdout",
     "output_type": "stream",
     "text": [
      "WARNING:tensorflow:From /usr/local/lib/python3.7/site-packages/tensorflow_core/python/compat/v2_compat.py:88: disable_resource_variables (from tensorflow.python.ops.variable_scope) is deprecated and will be removed in a future version.\n",
      "Instructions for updating:\n",
      "non-resource variables are not supported in the long term\n"
     ]
    }
   ],
   "source": [
    "import tensorflow.compat.v1 as tf\n",
    "tf.disable_v2_behavior()"
   ]
  },
  {
   "cell_type": "code",
   "execution_count": 23,
   "metadata": {},
   "outputs": [],
   "source": [
    "import numpy as np"
   ]
  },
  {
   "cell_type": "code",
   "execution_count": 25,
   "metadata": {},
   "outputs": [],
   "source": [
    "x_data = np.linspace(0,1,6)\n",
    "a_answer = 1.5\n",
    "b_answer = 1\n",
    "y_data = a_answer * x_data + b_answer"
   ]
  },
  {
   "cell_type": "code",
   "execution_count": 26,
   "metadata": {},
   "outputs": [],
   "source": [
    "x = tf.placeholder(tf.float32)\n",
    "y_answer = tf.placeholder(tf.float32)\n",
    "\n",
    "a_model = tf.Variable(1.0)\n",
    "b_model = tf.Variable(0.0)\n",
    "\n",
    "y_model = a_model * x + b_model\n",
    "loss = tf.sqrt(tf.reduce_mean((y_model - y_answer)**2))\n",
    "train = tf.train.GradientDescentOptimizer(0.0001).minimize(loss)\n",
    "\n",
    "init = tf.global_variables_initializer()"
   ]
  },
  {
   "cell_type": "code",
   "execution_count": null,
   "metadata": {},
   "outputs": [],
   "source": [
    "session = tf.Session()\n",
    "session.run(init)\n",
    "\n",
    "for i in range(2000):\n",
    "    session.run(train, {x:x_data, y_answer:y_data})\n",
    "    if i % 100 == 0:\n",
    "        current_loss, current_y_model = session.run([loss, y_model], {x:x_data, y_answer:y_data})\n",
    "        print('Loss: {current_loss}')\n",
    "        print('y_model: {current_y_model}')"
   ]
  }
 ],
 "metadata": {
  "kernelspec": {
   "display_name": "Python 3",
   "language": "python",
   "name": "python3"
  },
  "language_info": {
   "codemirror_mode": {
    "name": "ipython",
    "version": 3
   },
   "file_extension": ".py",
   "mimetype": "text/x-python",
   "name": "python",
   "nbconvert_exporter": "python",
   "pygments_lexer": "ipython3",
   "version": "3.7.6"
  }
 },
 "nbformat": 4,
 "nbformat_minor": 4
}
