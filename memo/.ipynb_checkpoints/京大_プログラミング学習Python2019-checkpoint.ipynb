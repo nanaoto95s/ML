{
 "cells": [
  {
   "cell_type": "markdown",
   "metadata": {},
   "source": [
    "[京大リポジトリ](https://repository.kulib.kyoto-u.ac.jp/dspace/handle/2433/245698)"
   ]
  },
  {
   "cell_type": "markdown",
   "metadata": {},
   "source": [
    "# 1始まりじゃない理由\n",
    "\n",
    "一番初めの位置をaとすると、\n",
    "- 1〜10番さんの場合、2番さんはa+1、7番さんはa+6と、足す数字が自身の数字とずれてしまう\n",
    "- 0〜9番さんの場合、1番さんはa+1、6番さんはa+6と、a+nで表すことができる\n",
    "\n",
    "また、一桁で扱える数は0を含めて10通りあるのに、\n",
    "- 1から始めると、1~10で最後の数字が2桁になってしまう\n",
    "- 0から始めると、0~9で1桁で表せる"
   ]
  },
  {
   "cell_type": "markdown",
   "metadata": {},
   "source": [
    "# Floatって？\n",
    "\n",
    "## 浮動小数点数\n",
    "\n",
    "浮動小数点数　＝　Floating point number\n",
    "\n",
    "- 科学技術計算で、絶対値の非常に小さい値や非常に大きい値を用いる場合に、固定小数点数では辛い\n",
    "- 「整数部を1桁として表記した数（仮数）」と「10のべき乗」の積で表すのが効果的<br>\n",
    "例）6.02 × $10^{23}$  =  6.02E23\n",
    "\n",
    "計算機の能力が低かった頃は、浮動小数点数を4バイトで表していたが、<br>\n",
    "その後は8バイトで表現するようになった。<br>\n",
    "→これを倍精度浮動小数点数（double precision floating point number）と呼ぶ。\n",
    "\n",
    "なので、C言語では、floatは単精度の、doubleは倍精度の浮動小数点数を用いる意味で使われている。<br>\n",
    "Pythonでは、倍精度の浮動小数点数が使われているが、文字列の変換の関数はfloatと命名されている。\n",
    "\n",
    "\n",
    "## 2進数\n",
    "\n",
    "- コンピュータでは、2進数が広く用いられている\n",
    "- しかし、2進数では10進数の値を正確に表せない問題がある<br>\n",
    "→それを回避しないといけない計算の場合は、Pythonで用意されている**decimal**というモジュールを使う。"
   ]
  },
  {
   "cell_type": "code",
   "execution_count": 1,
   "metadata": {},
   "outputs": [
    {
     "data": {
      "text/plain": [
       "3"
      ]
     },
     "execution_count": 1,
     "metadata": {},
     "output_type": "execute_result"
    }
   ],
   "source": [
    "1 + 2"
   ]
  },
  {
   "cell_type": "code",
   "execution_count": 2,
   "metadata": {},
   "outputs": [
    {
     "ename": "SyntaxError",
     "evalue": "invalid syntax (<ipython-input-2-59429850690c>, line 1)",
     "output_type": "error",
     "traceback": [
      "\u001b[0;36m  File \u001b[0;32m\"<ipython-input-2-59429850690c>\"\u001b[0;36m, line \u001b[0;32m1\u001b[0m\n\u001b[0;31m    1a = 2\u001b[0m\n\u001b[0m     ^\u001b[0m\n\u001b[0;31mSyntaxError\u001b[0m\u001b[0;31m:\u001b[0m invalid syntax\n"
     ]
    }
   ],
   "source": [
    "1a = 2\n",
    "print(1a)"
   ]
  },
  {
   "cell_type": "code",
   "execution_count": 3,
   "metadata": {},
   "outputs": [
    {
     "name": "stdout",
     "output_type": "stream",
     "text": [
      "1\n",
      "0.5\n",
      "XXX\n",
      "<class 'int'>\n",
      "<class 'float'>\n",
      "<class 'str'>\n"
     ]
    }
   ],
   "source": [
    "a = 1\n",
    "b = 1/2\n",
    "c = \"XXX\"\n",
    "print(a)\n",
    "print(b)\n",
    "print(c)\n",
    "print(type(a))\n",
    "print(type(b))\n",
    "print(type(c))"
   ]
  },
  {
   "cell_type": "code",
   "execution_count": 4,
   "metadata": {},
   "outputs": [
    {
     "name": "stdout",
     "output_type": "stream",
     "text": [
      "4360291472 4360291504\n"
     ]
    }
   ],
   "source": [
    "a = 1\n",
    "b = 2\n",
    "print(id(a), id(b))"
   ]
  },
  {
   "cell_type": "code",
   "execution_count": null,
   "metadata": {},
   "outputs": [],
   "source": []
  }
 ],
 "metadata": {
  "kernelspec": {
   "display_name": "Python 3",
   "language": "python",
   "name": "python3"
  },
  "language_info": {
   "codemirror_mode": {
    "name": "ipython",
    "version": 3
   },
   "file_extension": ".py",
   "mimetype": "text/x-python",
   "name": "python",
   "nbconvert_exporter": "python",
   "pygments_lexer": "ipython3",
   "version": "3.7.4"
  }
 },
 "nbformat": 4,
 "nbformat_minor": 2
}
