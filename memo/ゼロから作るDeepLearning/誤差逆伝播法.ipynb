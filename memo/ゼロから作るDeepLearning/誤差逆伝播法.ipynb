{
 "cells": [
  {
   "cell_type": "markdown",
   "metadata": {},
   "source": [
    "# 誤差逆伝播法\n",
    "## 計算グラフ\n",
    "\n",
    "![画像がありません](../image/計算グラフ.png)"
   ]
  },
  {
   "cell_type": "markdown",
   "metadata": {},
   "source": [
    "ノードと矢印によって計算の過程を表す。\n",
    "１）計算グラフを構築する。\n",
    "２）計算グラフ上で計算を左から右へ進める（順伝播）。\n",
    "\n",
    "〜計算グラフの利点〜\n",
    "- 局所的な計算\n",
    "各ノードで計算を行う際、自分に関係する計算だけすればよく、全体のことについては何も考えなくて良い。<br>\n",
    "そのため、全体の計算がどれほど複雑であっても、各ノードでは単純な計算に集中することで、問題を単純化できる。\n",
    "- 途中の計算の結果をすべて保持できる\n",
    "- 逆方向の伝播（逆伝播）によって「微分」を効率よく計算できる"
   ]
  },
  {
   "cell_type": "markdown",
   "metadata": {},
   "source": [
    "## 計算グラフの逆伝播\n",
    "\n",
    "![画像がありません（計算グラフback）](../image/計算グラフback.png)"
   ]
  },
  {
   "cell_type": "markdown",
   "metadata": {},
   "source": [
    "→$y=f(x)$という計算があるとして、信号$E$に対してノードの局所的な微分$\\frac{{\\delta}y}{{\\delta}x}$を乗算し、それを次のノードへと伝達している。<br>\n",
    "この計算を行うことで、目的とする微分の値を効率よく求めることができる。（<u>連鎖律の原理</u>）"
   ]
  },
  {
   "cell_type": "markdown",
   "metadata": {},
   "source": [
    "## 連鎖律\n",
    "\n",
    "連鎖律とは合成関数の微分についての性質であり、次のように定義される。\n",
    "\n",
    "**ある関数が合成関数で表される場合、その合成関数の微分は、合成関数を構成するそれぞれの関数の微分の積によって表すことができる。**\n",
    "\n",
    "例えば、$z=(x+y)^2$という式は、ルギの2つの式で構成される。<br>\n",
    "$$\n",
    "    z = t^2 \\\\\n",
    "    t = x + y\n",
    "$$\n",
    "連鎖律の計算をする・\n",
    "$$\n",
    "    \\frac{{\\delta}z}{{\\delta}x}=\\frac{{\\delta}z}{{\\delta}t}\\frac{{\\delta}t}{{\\delta}x} = 2t･1 = 2(x+y)\n",
    "$$"
   ]
  },
  {
   "cell_type": "markdown",
   "metadata": {},
   "source": [
    "![画像がありません](../image/ChainRule.png)"
   ]
  },
  {
   "cell_type": "markdown",
   "metadata": {},
   "source": [
    "このように、計算グラフの逆伝播は連鎖律によって成り立つ。\n",
    "\n",
    "- 加算ノードの逆伝播<br>\n",
    "：１を乗算するだけなので、入力された値をそのまま次のノードへ流すだけ。\n",
    "- 乗算ノードの逆伝播<br>\n",
    "：順伝播の際の入力信号をひっくり返した値を乗算して下流へ流す。"
   ]
  },
  {
   "cell_type": "markdown",
   "metadata": {},
   "source": [
    "# 活性化関数レイヤの実装\n",
    "\n",
    "計算グラフの考え方をNNに適用する。\n",
    "\n",
    "## ReLUレイヤ\n",
    "\n",
    "(5.7)\n",
    "$$\n",
    "    y = \\begin{cases}\n",
    "        x \\quad x > 0 \\\\\n",
    "        0 \\quad x \\leq 0 \\\\\n",
    "        \\end{cases}\n",
    "$$\n",
    "\n",
    "(5.8)\n",
    "$$\n",
    "    \\frac{{\\delta}y}{{\\delta}x} = \\begin{cases}\n",
    "        1 \\quad x > 0 \\\\\n",
    "        0 \\quad x \\leq 0 \\\\\n",
    "        \\end{cases}\n",
    "$$"
   ]
  },
  {
   "cell_type": "markdown",
   "metadata": {},
   "source": [
    "式(5.7)から、xに関するyの微分は式(5.8)のように求まる。<br>\n",
    "式(5.8)で表されるように、順伝播時の入力xが0より大きければ、逆伝播は上流の値をそのまま下流に流す。"
   ]
  },
  {
   "cell_type": "markdown",
   "metadata": {},
   "source": [
    "●$x>0$の時\n",
    "![画像がありません](../image/relu1.png)\n",
    "\n",
    "●$x\\leq0$の時\n",
    "![画像がありません](../image/relu2.png)\n",
    "\n",
    "→ReLUレイヤの計算グラフ"
   ]
  },
  {
   "cell_type": "markdown",
   "metadata": {},
   "source": [
    "## Sigmoidレイヤ\n",
    "\n",
    "(5.9)\n",
    "$$\n",
    "    y=\\frac{1}{1+exp(-x)}\n",
    "$$\n",
    "\n",
    "計算グラフで表す。"
   ]
  },
  {
   "cell_type": "markdown",
   "metadata": {},
   "source": [
    "![画像がありません](../image/sigmoid1.png)"
   ]
  },
  {
   "cell_type": "markdown",
   "metadata": {},
   "source": [
    "ステップ１<br>\n",
    "「/」ノードは$y=\\frac{1}{x}$を表すが、この微分は解析的に次の指揮によって表される。\n",
    "\n",
    "(5.10)\n",
    "$$\n",
    "    \\frac{{\\delta}y}{{\\delta}x}=-\\frac{1}{x^2}=-y^2\n",
    "$$"
   ]
  },
  {
   "cell_type": "markdown",
   "metadata": {},
   "source": [
    "式(5.10)より、逆伝播の時は上流の値に対して$-y^2$（順伝播の出力の２乗にマイナスをつけた値）を乗算して下流へ伝播する。"
   ]
  },
  {
   "cell_type": "markdown",
   "metadata": {},
   "source": [
    "ステップ２<br>\n",
    "「＋」ノードは、上流の値を下流にそのまま流すだけ。\n",
    "\n",
    "ステップ３<br>\n",
    "「exp」ノードは、$y=exp(x)$を表、その微分は次式で表される。\n",
    "\n",
    "(5.11)\n",
    "$$\n",
    "    \\frac{{\\delta}y}{{\\delta}x}=exp(x)\n",
    "$$\n",
    "\n",
    "計算グラフでは、上流の値に対して順伝播時の出力を乗算して下流へ伝播する。"
   ]
  },
  {
   "cell_type": "code",
   "execution_count": null,
   "metadata": {},
   "outputs": [],
   "source": []
  }
 ],
 "metadata": {
  "kernelspec": {
   "display_name": "Python 3",
   "language": "python",
   "name": "python3"
  },
  "language_info": {
   "codemirror_mode": {
    "name": "ipython",
    "version": 3
   },
   "file_extension": ".py",
   "mimetype": "text/x-python",
   "name": "python",
   "nbconvert_exporter": "python",
   "pygments_lexer": "ipython3",
   "version": "3.7.4"
  }
 },
 "nbformat": 4,
 "nbformat_minor": 2
}
