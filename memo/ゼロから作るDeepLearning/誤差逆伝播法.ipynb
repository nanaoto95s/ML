{
 "cells": [
  {
   "cell_type": "markdown",
   "metadata": {},
   "source": [
    "# 誤差逆伝播法\n",
    "## 計算グラフ\n",
    "\n",
    "![画像がありません](../image/計算グラフ.png)"
   ]
  },
  {
   "cell_type": "markdown",
   "metadata": {},
   "source": [
    "ノードと矢印によって計算の過程を表す。\n",
    "１）計算グラフを構築する。\n",
    "２）計算グラフ上で計算を左から右へ進める（順伝播）。\n",
    "\n",
    "〜計算グラフの利点〜\n",
    "- 局所的な計算\n",
    "各ノードで計算を行う際、自分に関係する計算だけすればよく、全体のことについては何も考えなくて良い。<br>\n",
    "そのため、全体の計算がどれほど複雑であっても、各ノードでは単純な計算に集中することで、問題を単純化できる。\n",
    "- 途中の計算の結果をすべて保持できる\n",
    "- 逆方向の伝播（逆伝播）によって「微分」を効率よく計算できる"
   ]
  },
  {
   "cell_type": "markdown",
   "metadata": {},
   "source": [
    "## 計算グラフの逆伝播\n",
    "\n",
    "![画像がありません（計算グラフback）](../image/計算グラフback/png)"
   ]
  },
  {
   "cell_type": "markdown",
   "metadata": {},
   "source": [
    "→$y=f(x)$という計算があるとして、信号$E$に対してノードの局所的な微分$\\frac{δy}{δx}$を乗算し、それを次のノードへと伝達している。<br>\n",
    "この計算を行うことで、目的とする微分の値を効率よく求めることができる。（<u>連鎖律の原理</u>）"
   ]
  },
  {
   "cell_type": "markdown",
   "metadata": {},
   "source": [
    "## 連鎖律\n",
    "\n",
    "連鎖律とは合成関数の微分についての性質であり、次のように定義される。\n",
    "\n",
    "**ある関数が合成関数で表される場合、その合成関数の微分は、合成関数を構成するそれぞれの関数の微分の積によって表すことができる。**\n",
    "\n",
    "例えば、$z=(x+y)^2$という式は、ルギの2つの式で構成される。<br>\n",
    "$$\n",
    "    z = t^2 \\\\\n",
    "    t = x + y\n",
    "$$\n",
    "連鎖律の計算をする・\n",
    "$$\n",
    "    \\frac{δz}{δx}=\\frac{δz}{δt}\\frac{δt}{δx} = 2t･1 = 2(x+y)\n",
    "$$"
   ]
  },
  {
   "cell_type": "markdown",
   "metadata": {},
   "source": [
    "![画像がありません](../image/ChainRule)"
   ]
  },
  {
   "cell_type": "markdown",
   "metadata": {},
   "source": [
    "このように、計算グラフの逆伝播は連鎖律によって成り立つ。\n",
    "\n",
    "- 加算ノードの逆伝播<br>\n",
    "：１を乗算するだけなので、入力された値をそのまま次のノードへ流すだけ。\n",
    "- 乗算ノードの逆伝播<br>\n",
    "：順伝播の際の入力信号をひっくり返した値を乗算して下流へ流す。"
   ]
  },
  {
   "cell_type": "code",
   "execution_count": null,
   "metadata": {},
   "outputs": [],
   "source": []
  }
 ],
 "metadata": {
  "kernelspec": {
   "display_name": "Python 3",
   "language": "python",
   "name": "python3"
  },
  "language_info": {
   "codemirror_mode": {
    "name": "ipython",
    "version": 3
   },
   "file_extension": ".py",
   "mimetype": "text/x-python",
   "name": "python",
   "nbconvert_exporter": "python",
   "pygments_lexer": "ipython3",
   "version": "3.7.4"
  }
 },
 "nbformat": 4,
 "nbformat_minor": 2
}
